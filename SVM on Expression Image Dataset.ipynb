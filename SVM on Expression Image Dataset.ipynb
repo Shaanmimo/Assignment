{
 "cells": [
  {
   "cell_type": "markdown",
   "id": "19504227",
   "metadata": {},
   "source": [
    "## Importing Necessary libraries"
   ]
  },
  {
   "cell_type": "code",
   "execution_count": 15,
   "id": "2890b8b5",
   "metadata": {},
   "outputs": [],
   "source": [
    "# Data handelong and manipulation libraries\n",
    "import pandas as pd\n",
    "import numpy as np\n",
    "\n",
    "# Image Extraction Libraries\n",
    "import os\n",
    "from zipfile import ZipFile\n",
    "\n",
    "#Image-Reading libraries \n",
    "from PIL import Image\n",
    "import matplotlib.pyplot as plt\n"
   ]
  },
  {
   "cell_type": "markdown",
   "id": "050456d4",
   "metadata": {},
   "source": [
    "## Importing The images"
   ]
  },
  {
   "cell_type": "code",
   "execution_count": 13,
   "id": "6278cfa5",
   "metadata": {},
   "outputs": [
    {
     "name": "stdout",
     "output_type": "stream",
     "text": [
      "extracting_images...\n",
      "Destination Folder already exists\n"
     ]
    }
   ],
   "source": [
    "file_name = './expression_images_dataset.zip'\n",
    "destination_path = './expression_images'\n",
    "\n",
    "#Opening the zip file in Read-mode\n",
    "with ZipFile(file_name , 'r') as zip:\n",
    "    #Extracting all the files from Zipfile\n",
    "    print('extracting_images...')\n",
    "    #Checking if the destination path exist or not\n",
    "    if (not os.path.exists(destination_path)):\n",
    "        zip.extractall(path = destination_path)\n",
    "        print('Done')\n",
    "    else:\n",
    "        print('Destination Folder already exists')"
   ]
  },
  {
   "cell_type": "markdown",
   "id": "0893505a",
   "metadata": {},
   "source": [
    "## Reading the images"
   ]
  },
  {
   "cell_type": "code",
   "execution_count": null,
   "id": "b2cd7d55",
   "metadata": {},
   "outputs": [],
   "source": [
    "im = Image.open('/expression_images/KA.AN!.39.tiff')\n",
    "im_array = np.array(im)\n",
    "plt"
   ]
  }
 ],
 "metadata": {
  "kernelspec": {
   "display_name": "Python 3",
   "language": "python",
   "name": "python3"
  },
  "language_info": {
   "codemirror_mode": {
    "name": "ipython",
    "version": 3
   },
   "file_extension": ".py",
   "mimetype": "text/x-python",
   "name": "python",
   "nbconvert_exporter": "python",
   "pygments_lexer": "ipython3",
   "version": "3.8.8"
  }
 },
 "nbformat": 4,
 "nbformat_minor": 5
}
